{
  "cells": [
    {
      "cell_type": "markdown",
      "metadata": {
        "id": "view-in-github",
        "colab_type": "text"
      },
      "source": [
        "<a href=\"https://colab.research.google.com/github/aakaashvp/rnn-stock-price-prediction/blob/main/Copy_of_Ex05_StockPricePrediction.ipynb\" target=\"_parent\"><img src=\"https://colab.research.google.com/assets/colab-badge.svg\" alt=\"Open In Colab\"/></a>"
      ]
    },
    {
      "cell_type": "code",
      "execution_count": 31,
      "metadata": {
        "id": "rWulUnXvE0XQ"
      },
      "outputs": [],
      "source": [
        "import numpy as np\n",
        "import matplotlib.pyplot as plt\n",
        "import pandas as pd\n",
        "import tensorflow as tf\n",
        "from sklearn.preprocessing import MinMaxScaler\n",
        "from keras import layers\n",
        "from keras.models import Sequential"
      ]
    },
    {
      "cell_type": "code",
      "execution_count": 32,
      "metadata": {
        "id": "G9yM-i2fGSeD"
      },
      "outputs": [],
      "source": [
        "dataset_train = pd.read_csv('trainset.csv')\n"
      ]
    },
    {
      "cell_type": "code",
      "execution_count": 33,
      "metadata": {
        "colab": {
          "base_uri": "https://localhost:8080/"
        },
        "id": "ZnNFxG1yHJXj",
        "outputId": "839d783a-ab80-47a2-d19a-3edbff7eabd2"
      },
      "outputs": [
        {
          "output_type": "execute_result",
          "data": {
            "text/plain": [
              "Index(['Date', 'Open', 'High', 'Low', 'Close', 'Adj Close', 'Volume'], dtype='object')"
            ]
          },
          "metadata": {},
          "execution_count": 33
        }
      ],
      "source": [
        "dataset_train.columns"
      ]
    },
    {
      "cell_type": "code",
      "execution_count": 34,
      "metadata": {
        "colab": {
          "base_uri": "https://localhost:8080/",
          "height": 206
        },
        "id": "ioHdtmFxHSQ5",
        "outputId": "d9bca051-054c-4177-d620-9d783af2f2ae"
      },
      "outputs": [
        {
          "output_type": "execute_result",
          "data": {
            "text/plain": [
              "         Date        Open        High         Low       Close   Adj Close  \\\n",
              "0  2013-01-02  357.385559  361.151062  355.959839  359.288177  359.288177   \n",
              "1  2013-01-03  360.122742  363.600128  358.031342  359.496826  359.496826   \n",
              "2  2013-01-04  362.313507  368.339294  361.488861  366.600616  366.600616   \n",
              "3  2013-01-07  365.348755  367.301056  362.929504  365.001007  365.001007   \n",
              "4  2013-01-08  365.393463  365.771027  359.874359  364.280701  364.280701   \n",
              "\n",
              "    Volume  \n",
              "0  5115500  \n",
              "1  4666500  \n",
              "2  5562800  \n",
              "3  3332900  \n",
              "4  3373900  "
            ],
            "text/html": [
              "\n",
              "  <div id=\"df-76dbfe5c-43a5-4c5d-9a62-b6225cce25a3\">\n",
              "    <div class=\"colab-df-container\">\n",
              "      <div>\n",
              "<style scoped>\n",
              "    .dataframe tbody tr th:only-of-type {\n",
              "        vertical-align: middle;\n",
              "    }\n",
              "\n",
              "    .dataframe tbody tr th {\n",
              "        vertical-align: top;\n",
              "    }\n",
              "\n",
              "    .dataframe thead th {\n",
              "        text-align: right;\n",
              "    }\n",
              "</style>\n",
              "<table border=\"1\" class=\"dataframe\">\n",
              "  <thead>\n",
              "    <tr style=\"text-align: right;\">\n",
              "      <th></th>\n",
              "      <th>Date</th>\n",
              "      <th>Open</th>\n",
              "      <th>High</th>\n",
              "      <th>Low</th>\n",
              "      <th>Close</th>\n",
              "      <th>Adj Close</th>\n",
              "      <th>Volume</th>\n",
              "    </tr>\n",
              "  </thead>\n",
              "  <tbody>\n",
              "    <tr>\n",
              "      <th>0</th>\n",
              "      <td>2013-01-02</td>\n",
              "      <td>357.385559</td>\n",
              "      <td>361.151062</td>\n",
              "      <td>355.959839</td>\n",
              "      <td>359.288177</td>\n",
              "      <td>359.288177</td>\n",
              "      <td>5115500</td>\n",
              "    </tr>\n",
              "    <tr>\n",
              "      <th>1</th>\n",
              "      <td>2013-01-03</td>\n",
              "      <td>360.122742</td>\n",
              "      <td>363.600128</td>\n",
              "      <td>358.031342</td>\n",
              "      <td>359.496826</td>\n",
              "      <td>359.496826</td>\n",
              "      <td>4666500</td>\n",
              "    </tr>\n",
              "    <tr>\n",
              "      <th>2</th>\n",
              "      <td>2013-01-04</td>\n",
              "      <td>362.313507</td>\n",
              "      <td>368.339294</td>\n",
              "      <td>361.488861</td>\n",
              "      <td>366.600616</td>\n",
              "      <td>366.600616</td>\n",
              "      <td>5562800</td>\n",
              "    </tr>\n",
              "    <tr>\n",
              "      <th>3</th>\n",
              "      <td>2013-01-07</td>\n",
              "      <td>365.348755</td>\n",
              "      <td>367.301056</td>\n",
              "      <td>362.929504</td>\n",
              "      <td>365.001007</td>\n",
              "      <td>365.001007</td>\n",
              "      <td>3332900</td>\n",
              "    </tr>\n",
              "    <tr>\n",
              "      <th>4</th>\n",
              "      <td>2013-01-08</td>\n",
              "      <td>365.393463</td>\n",
              "      <td>365.771027</td>\n",
              "      <td>359.874359</td>\n",
              "      <td>364.280701</td>\n",
              "      <td>364.280701</td>\n",
              "      <td>3373900</td>\n",
              "    </tr>\n",
              "  </tbody>\n",
              "</table>\n",
              "</div>\n",
              "      <button class=\"colab-df-convert\" onclick=\"convertToInteractive('df-76dbfe5c-43a5-4c5d-9a62-b6225cce25a3')\"\n",
              "              title=\"Convert this dataframe to an interactive table.\"\n",
              "              style=\"display:none;\">\n",
              "        \n",
              "  <svg xmlns=\"http://www.w3.org/2000/svg\" height=\"24px\"viewBox=\"0 0 24 24\"\n",
              "       width=\"24px\">\n",
              "    <path d=\"M0 0h24v24H0V0z\" fill=\"none\"/>\n",
              "    <path d=\"M18.56 5.44l.94 2.06.94-2.06 2.06-.94-2.06-.94-.94-2.06-.94 2.06-2.06.94zm-11 1L8.5 8.5l.94-2.06 2.06-.94-2.06-.94L8.5 2.5l-.94 2.06-2.06.94zm10 10l.94 2.06.94-2.06 2.06-.94-2.06-.94-.94-2.06-.94 2.06-2.06.94z\"/><path d=\"M17.41 7.96l-1.37-1.37c-.4-.4-.92-.59-1.43-.59-.52 0-1.04.2-1.43.59L10.3 9.45l-7.72 7.72c-.78.78-.78 2.05 0 2.83L4 21.41c.39.39.9.59 1.41.59.51 0 1.02-.2 1.41-.59l7.78-7.78 2.81-2.81c.8-.78.8-2.07 0-2.86zM5.41 20L4 18.59l7.72-7.72 1.47 1.35L5.41 20z\"/>\n",
              "  </svg>\n",
              "      </button>\n",
              "      \n",
              "  <style>\n",
              "    .colab-df-container {\n",
              "      display:flex;\n",
              "      flex-wrap:wrap;\n",
              "      gap: 12px;\n",
              "    }\n",
              "\n",
              "    .colab-df-convert {\n",
              "      background-color: #E8F0FE;\n",
              "      border: none;\n",
              "      border-radius: 50%;\n",
              "      cursor: pointer;\n",
              "      display: none;\n",
              "      fill: #1967D2;\n",
              "      height: 32px;\n",
              "      padding: 0 0 0 0;\n",
              "      width: 32px;\n",
              "    }\n",
              "\n",
              "    .colab-df-convert:hover {\n",
              "      background-color: #E2EBFA;\n",
              "      box-shadow: 0px 1px 2px rgba(60, 64, 67, 0.3), 0px 1px 3px 1px rgba(60, 64, 67, 0.15);\n",
              "      fill: #174EA6;\n",
              "    }\n",
              "\n",
              "    [theme=dark] .colab-df-convert {\n",
              "      background-color: #3B4455;\n",
              "      fill: #D2E3FC;\n",
              "    }\n",
              "\n",
              "    [theme=dark] .colab-df-convert:hover {\n",
              "      background-color: #434B5C;\n",
              "      box-shadow: 0px 1px 3px 1px rgba(0, 0, 0, 0.15);\n",
              "      filter: drop-shadow(0px 1px 2px rgba(0, 0, 0, 0.3));\n",
              "      fill: #FFFFFF;\n",
              "    }\n",
              "  </style>\n",
              "\n",
              "      <script>\n",
              "        const buttonEl =\n",
              "          document.querySelector('#df-76dbfe5c-43a5-4c5d-9a62-b6225cce25a3 button.colab-df-convert');\n",
              "        buttonEl.style.display =\n",
              "          google.colab.kernel.accessAllowed ? 'block' : 'none';\n",
              "\n",
              "        async function convertToInteractive(key) {\n",
              "          const element = document.querySelector('#df-76dbfe5c-43a5-4c5d-9a62-b6225cce25a3');\n",
              "          const dataTable =\n",
              "            await google.colab.kernel.invokeFunction('convertToInteractive',\n",
              "                                                     [key], {});\n",
              "          if (!dataTable) return;\n",
              "\n",
              "          const docLinkHtml = 'Like what you see? Visit the ' +\n",
              "            '<a target=\"_blank\" href=https://colab.research.google.com/notebooks/data_table.ipynb>data table notebook</a>'\n",
              "            + ' to learn more about interactive tables.';\n",
              "          element.innerHTML = '';\n",
              "          dataTable['output_type'] = 'display_data';\n",
              "          await google.colab.output.renderOutput(dataTable, element);\n",
              "          const docLink = document.createElement('div');\n",
              "          docLink.innerHTML = docLinkHtml;\n",
              "          element.appendChild(docLink);\n",
              "        }\n",
              "      </script>\n",
              "    </div>\n",
              "  </div>\n",
              "  "
            ]
          },
          "metadata": {},
          "execution_count": 34
        }
      ],
      "source": [
        "dataset_train.head()"
      ]
    },
    {
      "cell_type": "code",
      "execution_count": 35,
      "metadata": {
        "id": "od_Jh97fHxsp"
      },
      "outputs": [],
      "source": [
        "train_set = dataset_train.iloc[:,1:2].values"
      ]
    },
    {
      "cell_type": "code",
      "execution_count": 36,
      "metadata": {
        "colab": {
          "base_uri": "https://localhost:8080/"
        },
        "id": "ipOhkvP0H8Ki",
        "outputId": "13ee7cec-d896-4d7a-9a91-afc85d167027"
      },
      "outputs": [
        {
          "output_type": "execute_result",
          "data": {
            "text/plain": [
              "numpy.ndarray"
            ]
          },
          "metadata": {},
          "execution_count": 36
        }
      ],
      "source": [
        "type(train_set)"
      ]
    },
    {
      "cell_type": "code",
      "execution_count": 37,
      "metadata": {
        "colab": {
          "base_uri": "https://localhost:8080/"
        },
        "id": "10qpaYabITYB",
        "outputId": "6799d36d-3745-4303-f9d5-89841a675909"
      },
      "outputs": [
        {
          "output_type": "execute_result",
          "data": {
            "text/plain": [
              "(1259, 1)"
            ]
          },
          "metadata": {},
          "execution_count": 37
        }
      ],
      "source": [
        "train_set.shape"
      ]
    },
    {
      "cell_type": "code",
      "source": [
        "plt.plot(np.arange(0,1259),train_set)"
      ],
      "metadata": {
        "colab": {
          "base_uri": "https://localhost:8080/",
          "height": 283
        },
        "id": "lRIb5EZGIaMl",
        "outputId": "d25be45e-87c9-436c-e30a-2ae21df80784"
      },
      "execution_count": 38,
      "outputs": [
        {
          "output_type": "execute_result",
          "data": {
            "text/plain": [
              "[<matplotlib.lines.Line2D at 0x7fb51ce94750>]"
            ]
          },
          "metadata": {},
          "execution_count": 38
        },
        {
          "output_type": "display_data",
          "data": {
            "text/plain": [
              "<Figure size 432x288 with 1 Axes>"
            ],
            "image/png": "[encoded data removed]"
          },
          "metadata": {
            "needs_background": "light"
          }
        }
      ]
    },
    {
      "cell_type": "code",
      "execution_count": 39,
      "metadata": {
        "id": "Wc5QNHisIMcp"
      },
      "outputs": [],
      "source": [
        "sc = MinMaxScaler(feature_range=(0,1))\n",
        "training_set_scaled = sc.fit_transform(train_set)"
      ]
    },
    {
      "cell_type": "code",
      "execution_count": 40,
      "metadata": {
        "colab": {
          "base_uri": "https://localhost:8080/"
        },
        "id": "VYMccXBzjMzz",
        "outputId": "54be799f-8f3a-49a6-d2d8-1efc76e80a83"
      },
      "outputs": [
        {
          "output_type": "execute_result",
          "data": {
            "text/plain": [
              "(1259, 1)"
            ]
          },
          "metadata": {},
          "execution_count": 40
        }
      ],
      "source": [
        "training_set_scaled.shape"
      ]
    },
    {
      "cell_type": "code",
      "execution_count": 41,
      "metadata": {
        "id": "qO7NJjsCI1qq"
      },
      "outputs": [],
      "source": [
        "X_train_array = []\n",
        "y_train_array = []\n",
        "for i in range(60, 1259):\n",
        "  X_train_array.append(training_set_scaled[i-60:i,0])\n",
        "  y_train_array.append(training_set_scaled[i,0])\n",
        "X_train, y_train = np.array(X_train_array), np.array(y_train_array)\n",
        "X_train1 = X_train.reshape((X_train.shape[0], X_train.shape[1],1))\n"
      ]
    },
    {
      "cell_type": "code",
      "execution_count": 42,
      "metadata": {
        "colab": {
          "base_uri": "https://localhost:8080/"
        },
        "id": "0rRZyii1IWmq",
        "outputId": "6d36fd4b-58a4-45f6-f592-e8d7d7a4eb34"
      },
      "outputs": [
        {
          "output_type": "execute_result",
          "data": {
            "text/plain": [
              "(1199, 60)"
            ]
          },
          "metadata": {},
          "execution_count": 42
        }
      ],
      "source": [
        "X_train.shape"
      ]
    },
    {
      "cell_type": "code",
      "execution_count": 43,
      "metadata": {
        "id": "BknoiyHTN_tb"
      },
      "outputs": [],
      "source": [
        "length = 60\n",
        "n_features = 1"
      ]
    },
    {
      "cell_type": "code",
      "source": [
        "model = Sequential()\n",
        "model.add(layers.SimpleRNN(10,input_shape=(60,1)))\n",
        "model.add(layers.Dense(1))"
      ],
      "metadata": {
        "id": "w0dwwqM7IvmW"
      },
      "execution_count": 44,
      "outputs": []
    },
    {
      "cell_type": "code",
      "execution_count": 45,
      "metadata": {
        "id": "tb1wq3smJuDF"
      },
      "outputs": [],
      "source": [
        "model.compile(optimizer='adam', loss='mse')"
      ]
    },
    {
      "cell_type": "code",
      "execution_count": 46,
      "metadata": {
        "colab": {
          "base_uri": "https://localhost:8080/"
        },
        "id": "fXZtPWTgO5T7",
        "outputId": "4b23ca7e-2e15-4e59-f0ce-bbef49412db0"
      },
      "outputs": [
        {
          "output_type": "stream",
          "name": "stdout",
          "text": [
            "Epoch 1/100\n",
            "120/120 [==============================] - 2s 10ms/step - loss: 0.0018\n",
            "Epoch 2/100\n",
            "120/120 [==============================] - 1s 9ms/step - loss: 3.9601e-04\n",
            "Epoch 3/100\n",
            "120/120 [==============================] - 1s 9ms/step - loss: 3.0729e-04\n",
            "Epoch 4/100\n",
            "120/120 [==============================] - 1s 9ms/step - loss: 2.6864e-04\n",
            "Epoch 5/100\n",
            "120/120 [==============================] - 1s 9ms/step - loss: 2.5361e-04\n",
            "Epoch 6/100\n",
            "120/120 [==============================] - 1s 9ms/step - loss: 2.4671e-04\n",
            "Epoch 7/100\n",
            "120/120 [==============================] - 1s 8ms/step - loss: 2.3063e-04\n",
            "Epoch 8/100\n",
            "120/120 [==============================] - 1s 8ms/step - loss: 2.2397e-04\n",
            "Epoch 9/100\n",
            "120/120 [==============================] - 1s 9ms/step - loss: 2.3138e-04\n",
            "Epoch 10/100\n",
            "120/120 [==============================] - 1s 8ms/step - loss: 2.2101e-04\n",
            "Epoch 11/100\n",
            "120/120 [==============================] - 1s 9ms/step - loss: 2.0878e-04\n",
            "Epoch 12/100\n",
            "120/120 [==============================] - 1s 9ms/step - loss: 2.2969e-04\n",
            "Epoch 13/100\n",
            "120/120 [==============================] - 1s 10ms/step - loss: 2.4058e-04\n",
            "Epoch 14/100\n",
            "120/120 [==============================] - 1s 8ms/step - loss: 2.1049e-04\n",
            "Epoch 15/100\n",
            "120/120 [==============================] - 1s 8ms/step - loss: 2.0405e-04\n",
            "Epoch 16/100\n",
            "120/120 [==============================] - 1s 9ms/step - loss: 2.1130e-04\n",
            "Epoch 17/100\n",
            "120/120 [==============================] - 1s 9ms/step - loss: 2.0653e-04\n",
            "Epoch 18/100\n",
            "120/120 [==============================] - 1s 8ms/step - loss: 2.0800e-04\n",
            "Epoch 19/100\n",
            "120/120 [==============================] - 1s 9ms/step - loss: 2.4701e-04\n",
            "Epoch 20/100\n",
            "120/120 [==============================] - 1s 9ms/step - loss: 1.9277e-04\n",
            "Epoch 21/100\n",
            "120/120 [==============================] - 1s 9ms/step - loss: 1.9575e-04\n",
            "Epoch 22/100\n",
            "120/120 [==============================] - 1s 10ms/step - loss: 1.9640e-04\n",
            "Epoch 23/100\n",
            "120/120 [==============================] - 1s 9ms/step - loss: 1.9272e-04\n",
            "Epoch 24/100\n",
            "120/120 [==============================] - 1s 9ms/step - loss: 1.9851e-04\n",
            "Epoch 25/100\n",
            "120/120 [==============================] - 1s 9ms/step - loss: 1.8797e-04\n",
            "Epoch 26/100\n",
            "120/120 [==============================] - 1s 8ms/step - loss: 1.9826e-04\n",
            "Epoch 27/100\n",
            "120/120 [==============================] - 1s 9ms/step - loss: 1.9166e-04\n",
            "Epoch 28/100\n",
            "120/120 [==============================] - 1s 9ms/step - loss: 2.0249e-04\n",
            "Epoch 29/100\n",
            "120/120 [==============================] - 1s 8ms/step - loss: 1.9300e-04\n",
            "Epoch 30/100\n",
            "120/120 [==============================] - 1s 8ms/step - loss: 1.9923e-04\n",
            "Epoch 31/100\n",
            "120/120 [==============================] - 1s 8ms/step - loss: 2.0171e-04\n",
            "Epoch 32/100\n",
            "120/120 [==============================] - 1s 9ms/step - loss: 1.9082e-04\n",
            "Epoch 33/100\n",
            "120/120 [==============================] - 1s 9ms/step - loss: 2.0430e-04\n",
            "Epoch 34/100\n",
            "120/120 [==============================] - 1s 10ms/step - loss: 2.0366e-04\n",
            "Epoch 35/100\n",
            "120/120 [==============================] - 1s 9ms/step - loss: 2.1188e-04\n",
            "Epoch 36/100\n",
            "120/120 [==============================] - 1s 9ms/step - loss: 1.8855e-04\n",
            "Epoch 37/100\n",
            "120/120 [==============================] - 1s 9ms/step - loss: 1.9281e-04\n",
            "Epoch 38/100\n",
            "120/120 [==============================] - 1s 10ms/step - loss: 1.8220e-04\n",
            "Epoch 39/100\n",
            "120/120 [==============================] - 1s 10ms/step - loss: 1.7680e-04\n",
            "Epoch 40/100\n",
            "120/120 [==============================] - 1s 9ms/step - loss: 1.8968e-04\n",
            "Epoch 41/100\n",
            "120/120 [==============================] - 1s 9ms/step - loss: 1.9734e-04\n",
            "Epoch 42/100\n",
            "120/120 [==============================] - 1s 10ms/step - loss: 2.0369e-04\n",
            "Epoch 43/100\n",
            "120/120 [==============================] - 1s 10ms/step - loss: 1.7998e-04\n",
            "Epoch 44/100\n",
            "120/120 [==============================] - 1s 10ms/step - loss: 1.9050e-04\n",
            "Epoch 45/100\n",
            "120/120 [==============================] - 1s 10ms/step - loss: 1.8694e-04\n",
            "Epoch 46/100\n",
            "120/120 [==============================] - 1s 10ms/step - loss: 1.8256e-04\n",
            "Epoch 47/100\n",
            "120/120 [==============================] - 1s 10ms/step - loss: 1.7783e-04\n",
            "Epoch 48/100\n",
            "120/120 [==============================] - 1s 10ms/step - loss: 1.8155e-04\n",
            "Epoch 49/100\n",
            "120/120 [==============================] - 1s 9ms/step - loss: 1.9853e-04\n",
            "Epoch 50/100\n",
            "120/120 [==============================] - 1s 9ms/step - loss: 1.7879e-04\n",
            "Epoch 51/100\n",
            "120/120 [==============================] - 1s 9ms/step - loss: 1.9908e-04\n",
            "Epoch 52/100\n",
            "120/120 [==============================] - 1s 8ms/step - loss: 1.9882e-04\n",
            "Epoch 53/100\n",
            "120/120 [==============================] - 1s 8ms/step - loss: 1.7756e-04\n",
            "Epoch 54/100\n",
            "120/120 [==============================] - 1s 9ms/step - loss: 1.8109e-04\n",
            "Epoch 55/100\n",
            "120/120 [==============================] - 1s 9ms/step - loss: 1.8541e-04\n",
            "Epoch 56/100\n",
            "120/120 [==============================] - 1s 10ms/step - loss: 1.8661e-04\n",
            "Epoch 57/100\n",
            "120/120 [==============================] - 1s 9ms/step - loss: 1.8397e-04\n",
            "Epoch 58/100\n",
            "120/120 [==============================] - 1s 9ms/step - loss: 1.9178e-04\n",
            "Epoch 59/100\n",
            "120/120 [==============================] - 1s 10ms/step - loss: 1.7974e-04\n",
            "Epoch 60/100\n",
            "120/120 [==============================] - 1s 9ms/step - loss: 1.9146e-04\n",
            "Epoch 61/100\n",
            "120/120 [==============================] - 1s 9ms/step - loss: 1.8383e-04\n",
            "Epoch 62/100\n",
            "120/120 [==============================] - 1s 8ms/step - loss: 1.8622e-04\n",
            "Epoch 63/100\n",
            "120/120 [==============================] - 1s 8ms/step - loss: 1.8931e-04\n",
            "Epoch 64/100\n",
            "120/120 [==============================] - 1s 8ms/step - loss: 1.8261e-04\n",
            "Epoch 65/100\n",
            "120/120 [==============================] - 1s 9ms/step - loss: 1.9072e-04\n",
            "Epoch 66/100\n",
            "120/120 [==============================] - 1s 8ms/step - loss: 1.8263e-04\n",
            "Epoch 67/100\n",
            "120/120 [==============================] - 1s 8ms/step - loss: 1.7768e-04\n",
            "Epoch 68/100\n",
            "120/120 [==============================] - 1s 8ms/step - loss: 1.9997e-04\n",
            "Epoch 69/100\n",
            "120/120 [==============================] - 1s 8ms/step - loss: 1.7657e-04\n",
            "Epoch 70/100\n",
            "120/120 [==============================] - 1s 9ms/step - loss: 1.7564e-04\n",
            "Epoch 71/100\n",
            "120/120 [==============================] - 1s 8ms/step - loss: 1.8121e-04\n",
            "Epoch 72/100\n",
            "120/120 [==============================] - 1s 8ms/step - loss: 1.7943e-04\n",
            "Epoch 73/100\n",
            "120/120 [==============================] - 1s 9ms/step - loss: 1.7650e-04\n",
            "Epoch 74/100\n",
            "120/120 [==============================] - 1s 8ms/step - loss: 1.8407e-04\n",
            "Epoch 75/100\n",
            "120/120 [==============================] - 1s 9ms/step - loss: 1.8142e-04\n",
            "Epoch 76/100\n",
            "120/120 [==============================] - 1s 8ms/step - loss: 1.7622e-04\n",
            "Epoch 77/100\n",
            "120/120 [==============================] - 1s 10ms/step - loss: 1.7639e-04\n",
            "Epoch 78/100\n",
            "120/120 [==============================] - 1s 8ms/step - loss: 1.8466e-04\n",
            "Epoch 79/100\n",
            "120/120 [==============================] - 1s 8ms/step - loss: 1.8363e-04\n",
            "Epoch 80/100\n",
            "120/120 [==============================] - 1s 8ms/step - loss: 1.8389e-04\n",
            "Epoch 81/100\n",
            "120/120 [==============================] - 1s 8ms/step - loss: 1.7171e-04\n",
            "Epoch 82/100\n",
            "120/120 [==============================] - 1s 8ms/step - loss: 1.8428e-04\n",
            "Epoch 83/100\n",
            "120/120 [==============================] - 1s 8ms/step - loss: 1.7501e-04\n",
            "Epoch 84/100\n",
            "120/120 [==============================] - 1s 8ms/step - loss: 1.7507e-04\n",
            "Epoch 85/100\n",
            "120/120 [==============================] - 1s 9ms/step - loss: 1.8579e-04\n",
            "Epoch 86/100\n",
            "120/120 [==============================] - 1s 8ms/step - loss: 1.8475e-04\n",
            "Epoch 87/100\n",
            "120/120 [==============================] - 1s 8ms/step - loss: 1.6937e-04\n",
            "Epoch 88/100\n",
            "120/120 [==============================] - 1s 9ms/step - loss: 1.7607e-04\n",
            "Epoch 89/100\n",
            "120/120 [==============================] - 1s 10ms/step - loss: 1.9596e-04\n",
            "Epoch 90/100\n",
            "120/120 [==============================] - 1s 8ms/step - loss: 1.7970e-04\n",
            "Epoch 91/100\n",
            "120/120 [==============================] - 1s 9ms/step - loss: 1.8647e-04\n",
            "Epoch 92/100\n",
            "120/120 [==============================] - 1s 8ms/step - loss: 1.7334e-04\n",
            "Epoch 93/100\n",
            "120/120 [==============================] - 1s 8ms/step - loss: 1.7515e-04\n",
            "Epoch 94/100\n",
            "120/120 [==============================] - 1s 9ms/step - loss: 1.8092e-04\n",
            "Epoch 95/100\n",
            "120/120 [==============================] - 1s 8ms/step - loss: 1.8488e-04\n",
            "Epoch 96/100\n",
            "120/120 [==============================] - 1s 8ms/step - loss: 1.7241e-04\n",
            "Epoch 97/100\n",
            "120/120 [==============================] - 1s 8ms/step - loss: 1.7742e-04\n",
            "Epoch 98/100\n",
            "120/120 [==============================] - 1s 8ms/step - loss: 1.7874e-04\n",
            "Epoch 99/100\n",
            "120/120 [==============================] - 1s 9ms/step - loss: 1.7845e-04\n",
            "Epoch 100/100\n",
            "120/120 [==============================] - 1s 8ms/step - loss: 1.7720e-04\n"
          ]
        },
        {
          "output_type": "execute_result",
          "data": {
            "text/plain": [
              "<keras.callbacks.History at 0x7fb521618b90>"
            ]
          },
          "metadata": {},
          "execution_count": 46
        }
      ],
      "source": [
        "model.fit(X_train1,y_train,epochs=100, batch_size=10)"
      ]
    },
    {
      "cell_type": "code",
      "execution_count": 47,
      "metadata": {
        "id": "OJzVwjRmPqDb"
      },
      "outputs": [],
      "source": [
        "dataset_test = pd.read_csv('testset.csv')"
      ]
    },
    {
      "cell_type": "code",
      "execution_count": 48,
      "metadata": {
        "id": "JPrrd1n-Px7o"
      },
      "outputs": [],
      "source": [
        "test_set = dataset_test.iloc[:,1:2].values"
      ]
    },
    {
      "cell_type": "code",
      "execution_count": 49,
      "metadata": {
        "id": "WQgU2aH0bHZy",
        "colab": {
          "base_uri": "https://localhost:8080/"
        },
        "outputId": "eed91fcc-e197-4628-c029-722c58523ba2"
      },
      "outputs": [
        {
          "output_type": "execute_result",
          "data": {
            "text/plain": [
              "(125, 1)"
            ]
          },
          "metadata": {},
          "execution_count": 49
        }
      ],
      "source": [
        "test_set.shape"
      ]
    },
    {
      "cell_type": "code",
      "execution_count": 50,
      "metadata": {
        "id": "jqBvI7uQa8dz"
      },
      "outputs": [],
      "source": [
        "dataset_total = pd.concat((dataset_train['Open'],dataset_test['Open']),axis=0)"
      ]
    },
    {
      "cell_type": "code",
      "execution_count": 51,
      "metadata": {
        "id": "V6w4Dq01QJXk"
      },
      "outputs": [],
      "source": [
        "inputs = dataset_total.values\n",
        "inputs = inputs.reshape(-1,1)\n",
        "inputs_scaled=sc.transform(inputs)\n",
        "X_test = []\n",
        "for i in range(60,1384):\n",
        "  X_test.append(inputs_scaled[i-60:i,0])\n",
        "  \n",
        "X_test = np.array(X_test)\n",
        "X_test = np.reshape(X_test,(X_test.shape[0], X_test.shape[1],1))"
      ]
    },
    {
      "cell_type": "code",
      "execution_count": 52,
      "metadata": {
        "id": "zup_dSFXbqed",
        "colab": {
          "base_uri": "https://localhost:8080/"
        },
        "outputId": "fa5bdf75-e1f3-40d9-d17e-1c12f5f3c38b"
      },
      "outputs": [
        {
          "output_type": "execute_result",
          "data": {
            "text/plain": [
              "(1324, 60, 1)"
            ]
          },
          "metadata": {},
          "execution_count": 52
        }
      ],
      "source": [
        "X_test.shape"
      ]
    },
    {
      "cell_type": "code",
      "execution_count": 53,
      "metadata": {
        "id": "M02bWmdhRneT",
        "colab": {
          "base_uri": "https://localhost:8080/"
        },
        "outputId": "daccf746-fc0a-4075-9343-6a795a2d5d87"
      },
      "outputs": [
        {
          "output_type": "stream",
          "name": "stdout",
          "text": [
            "42/42 [==============================] - 0s 4ms/step\n"
          ]
        }
      ],
      "source": [
        "predicted_stock_price_scaled = model.predict(X_test)\n",
        "predicted_stock_price = sc.inverse_transform(predicted_stock_price_scaled)"
      ]
    },
    {
      "cell_type": "code",
      "execution_count": 54,
      "metadata": {
        "id": "60GZR-9ZR34C",
        "colab": {
          "base_uri": "https://localhost:8080/",
          "height": 295
        },
        "outputId": "237b6123-b9b2-468a-99f7-53076669712d"
      },
      "outputs": [
        {
          "output_type": "display_data",
          "data": {
            "text/plain": [
              "<Figure size 432x288 with 1 Axes>"
            ],
            "image/png": "[encoded data removed]"
          },
          "metadata": {
            "needs_background": "light"
          }
        }
      ],
      "source": [
        "plt.plot(np.arange(0,1384),inputs, color='red', label = 'Test(Real) Google stock price')\n",
        "plt.plot(np.arange(60,1384),predicted_stock_price, color='blue', label = 'Predicted Google stock price')\n",
        "plt.title('Google Stock Price Prediction')\n",
        "plt.xlabel('Time')\n",
        "plt.ylabel('Google Stock Price')\n",
        "plt.legend()\n",
        "plt.show()\n"
      ]
    },
    {
      "cell_type": "markdown",
      "source": [],
      "metadata": {
        "id": "SXjawV3MMRXr"
      }
    }
  ],
  "metadata": {
    "colab": {
      "collapsed_sections": [],
      "provenance": [],
      "include_colab_link": true
    },
    "kernelspec": {
      "display_name": "Python 3",
      "name": "python3"
    },
    "language_info": {
      "name": "python"
    }
  },
  "nbformat": 4,
  "nbformat_minor": 0
}